{
 "cells": [
  {
   "cell_type": "code",
   "execution_count": 2,
   "metadata": {},
   "outputs": [],
   "source": [
    "import ast\n",
    "import matplotlib.pyplot as plt\n",
    "import numpy as np\n",
    "import pandas as pd\n",
    "import seaborn as sns"
   ]
  },
  {
   "cell_type": "markdown",
   "metadata": {},
   "source": [
    "# Функции"
   ]
  },
  {
   "cell_type": "code",
   "execution_count": 3,
   "metadata": {},
   "outputs": [],
   "source": [
    "def transform_reviews(x):\n",
    "    x = x.replace(\"nan\", \"None\")\n",
    "    x = ast.literal_eval(x)\n",
    "    return x"
   ]
  },
  {
   "cell_type": "markdown",
   "metadata": {},
   "source": [
    "# Загрузка Pandas и очистка данных"
   ]
  },
  {
   "cell_type": "code",
   "execution_count": 4,
   "metadata": {},
   "outputs": [],
   "source": [
    "df = pd.read_csv(\"main_task.csv\")\n",
    "df_test = pd.read_csv(\"kaggle_task.csv\")\n",
    "sample_submission = pd.read_csv(\"sample_submission.csv\")"
   ]
  },
  {
   "cell_type": "markdown",
   "metadata": {},
   "source": [
    "Объединяем тестовый и тренировочный сэт"
   ]
  },
  {
   "cell_type": "code",
   "execution_count": 5,
   "metadata": {},
   "outputs": [],
   "source": [
    "df['sample'] = 1\n",
    "df_test['sample'] = 0\n",
    "df_test['Rating'] = 0\n",
    "df = df_test.append(df, sort=False).reset_index(drop=True)"
   ]
  },
  {
   "cell_type": "code",
   "execution_count": 6,
   "metadata": {},
   "outputs": [],
   "source": [
    "# Ваш код по очистке данных и генерации новых признаков\n",
    "# При необходимости добавьте ячейки\n",
    "# Зафиксируем сид и дату для воспроизводимости экспериментов\n",
    "RANDOM_SEED = 42\n",
    "date_today = pd.to_datetime('2020-09-30')"
   ]
  },
  {
   "cell_type": "markdown",
   "metadata": {},
   "source": [
    "**Дано в описании:**\n",
    "- Restaurant_id — идентификационный номер ресторана / сети ресторанов;\n",
    "- City — город, в котором находится ресторан;\n",
    "- Cuisine Style — кухня или кухни, к которым можно отнести блюда, предлагаемые в ресторане;\n",
    "- Ranking — место, которое занимает данный ресторан среди всех ресторанов своего города;\n",
    "- Rating — рейтинг ресторана по данным TripAdvisor (именно это значение должна будет предсказывать модель);\n",
    "- Price Range — диапазон цен в ресторане;\n",
    "- Number of Reviews — количество отзывов о ресторане;\n",
    "- Reviews — данные о двух отзывах, которые отображаются на сайте ресторана;\n",
    "- URL_TA — URL страницы ресторана на TripAdvosor;\n",
    "- ID_TA — идентификатор ресторана в базе данных TripAdvisor.|"
   ]
  },
  {
   "cell_type": "code",
   "execution_count": 7,
   "metadata": {},
   "outputs": [
    {
     "data": {
      "text/html": [
       "<div>\n",
       "<style scoped>\n",
       "    .dataframe tbody tr th:only-of-type {\n",
       "        vertical-align: middle;\n",
       "    }\n",
       "\n",
       "    .dataframe tbody tr th {\n",
       "        vertical-align: top;\n",
       "    }\n",
       "\n",
       "    .dataframe thead th {\n",
       "        text-align: right;\n",
       "    }\n",
       "</style>\n",
       "<table border=\"1\" class=\"dataframe\">\n",
       "  <thead>\n",
       "    <tr style=\"text-align: right;\">\n",
       "      <th></th>\n",
       "      <th>Restaurant_id</th>\n",
       "      <th>City</th>\n",
       "      <th>Cuisine Style</th>\n",
       "      <th>Ranking</th>\n",
       "      <th>Price Range</th>\n",
       "      <th>Number of Reviews</th>\n",
       "      <th>Reviews</th>\n",
       "      <th>URL_TA</th>\n",
       "      <th>ID_TA</th>\n",
       "      <th>sample</th>\n",
       "      <th>Rating</th>\n",
       "    </tr>\n",
       "  </thead>\n",
       "  <tbody>\n",
       "    <tr>\n",
       "      <th>0</th>\n",
       "      <td>id_0</td>\n",
       "      <td>Paris</td>\n",
       "      <td>['Bar', 'Pub']</td>\n",
       "      <td>12963.0</td>\n",
       "      <td>$$ - $$$</td>\n",
       "      <td>4.0</td>\n",
       "      <td>[[], []]</td>\n",
       "      <td>/Restaurant_Review-g187147-d10746918-Reviews-L...</td>\n",
       "      <td>d10746918</td>\n",
       "      <td>0</td>\n",
       "      <td>0.0</td>\n",
       "    </tr>\n",
       "    <tr>\n",
       "      <th>1</th>\n",
       "      <td>id_1</td>\n",
       "      <td>Helsinki</td>\n",
       "      <td>['European', 'Scandinavian', 'Gluten Free Opti...</td>\n",
       "      <td>106.0</td>\n",
       "      <td>$$ - $$$</td>\n",
       "      <td>97.0</td>\n",
       "      <td>[['Very good reviews!', 'Fine dining in Hakani...</td>\n",
       "      <td>/Restaurant_Review-g189934-d6674944-Reviews-Ra...</td>\n",
       "      <td>d6674944</td>\n",
       "      <td>0</td>\n",
       "      <td>0.0</td>\n",
       "    </tr>\n",
       "    <tr>\n",
       "      <th>2</th>\n",
       "      <td>id_2</td>\n",
       "      <td>Edinburgh</td>\n",
       "      <td>['Vegetarian Friendly']</td>\n",
       "      <td>810.0</td>\n",
       "      <td>$$ - $$$</td>\n",
       "      <td>28.0</td>\n",
       "      <td>[['Better than the Links', 'Ivy Black'], ['12/...</td>\n",
       "      <td>/Restaurant_Review-g186525-d13129638-Reviews-B...</td>\n",
       "      <td>d13129638</td>\n",
       "      <td>0</td>\n",
       "      <td>0.0</td>\n",
       "    </tr>\n",
       "    <tr>\n",
       "      <th>3</th>\n",
       "      <td>id_3</td>\n",
       "      <td>London</td>\n",
       "      <td>['Italian', 'Mediterranean', 'European', 'Vege...</td>\n",
       "      <td>1669.0</td>\n",
       "      <td>$$$$</td>\n",
       "      <td>202.0</td>\n",
       "      <td>[['Most exquisite', 'Delicious and authentic']...</td>\n",
       "      <td>/Restaurant_Review-g186338-d680417-Reviews-Qui...</td>\n",
       "      <td>d680417</td>\n",
       "      <td>0</td>\n",
       "      <td>0.0</td>\n",
       "    </tr>\n",
       "    <tr>\n",
       "      <th>4</th>\n",
       "      <td>id_4</td>\n",
       "      <td>Bratislava</td>\n",
       "      <td>['Italian', 'Mediterranean', 'European', 'Seaf...</td>\n",
       "      <td>37.0</td>\n",
       "      <td>$$$$</td>\n",
       "      <td>162.0</td>\n",
       "      <td>[['Always the best in bratislava', 'Very good ...</td>\n",
       "      <td>/Restaurant_Review-g274924-d1112354-Reviews-Ma...</td>\n",
       "      <td>d1112354</td>\n",
       "      <td>0</td>\n",
       "      <td>0.0</td>\n",
       "    </tr>\n",
       "    <tr>\n",
       "      <th>...</th>\n",
       "      <td>...</td>\n",
       "      <td>...</td>\n",
       "      <td>...</td>\n",
       "      <td>...</td>\n",
       "      <td>...</td>\n",
       "      <td>...</td>\n",
       "      <td>...</td>\n",
       "      <td>...</td>\n",
       "      <td>...</td>\n",
       "      <td>...</td>\n",
       "      <td>...</td>\n",
       "    </tr>\n",
       "    <tr>\n",
       "      <th>49995</th>\n",
       "      <td>id_499</td>\n",
       "      <td>Milan</td>\n",
       "      <td>['Italian', 'Vegetarian Friendly', 'Vegan Opti...</td>\n",
       "      <td>500.0</td>\n",
       "      <td>$$ - $$$</td>\n",
       "      <td>79.0</td>\n",
       "      <td>[['The real Italian experience!', 'Wonderful f...</td>\n",
       "      <td>/Restaurant_Review-g187849-d2104414-Reviews-Ro...</td>\n",
       "      <td>d2104414</td>\n",
       "      <td>1</td>\n",
       "      <td>4.5</td>\n",
       "    </tr>\n",
       "    <tr>\n",
       "      <th>49996</th>\n",
       "      <td>id_6340</td>\n",
       "      <td>Paris</td>\n",
       "      <td>['French', 'American', 'Bar', 'European', 'Veg...</td>\n",
       "      <td>6341.0</td>\n",
       "      <td>$$ - $$$</td>\n",
       "      <td>542.0</td>\n",
       "      <td>[['Parisian atmosphere', 'Bit pricey but inter...</td>\n",
       "      <td>/Restaurant_Review-g187147-d1800036-Reviews-La...</td>\n",
       "      <td>d1800036</td>\n",
       "      <td>1</td>\n",
       "      <td>3.5</td>\n",
       "    </tr>\n",
       "    <tr>\n",
       "      <th>49997</th>\n",
       "      <td>id_1649</td>\n",
       "      <td>Stockholm</td>\n",
       "      <td>['Japanese', 'Sushi']</td>\n",
       "      <td>1652.0</td>\n",
       "      <td>NaN</td>\n",
       "      <td>4.0</td>\n",
       "      <td>[['Good by swedish standards', 'A hidden jewel...</td>\n",
       "      <td>/Restaurant_Review-g189852-d947615-Reviews-Sus...</td>\n",
       "      <td>d947615</td>\n",
       "      <td>1</td>\n",
       "      <td>4.5</td>\n",
       "    </tr>\n",
       "    <tr>\n",
       "      <th>49998</th>\n",
       "      <td>id_640</td>\n",
       "      <td>Warsaw</td>\n",
       "      <td>['Polish', 'European', 'Eastern European', 'Ce...</td>\n",
       "      <td>641.0</td>\n",
       "      <td>$$ - $$$</td>\n",
       "      <td>70.0</td>\n",
       "      <td>[['Underground restaurant', 'Oldest Restaurant...</td>\n",
       "      <td>/Restaurant_Review-g274856-d1100838-Reviews-Ho...</td>\n",
       "      <td>d1100838</td>\n",
       "      <td>1</td>\n",
       "      <td>4.0</td>\n",
       "    </tr>\n",
       "    <tr>\n",
       "      <th>49999</th>\n",
       "      <td>id_4824</td>\n",
       "      <td>Milan</td>\n",
       "      <td>['Spanish']</td>\n",
       "      <td>4827.0</td>\n",
       "      <td>$$ - $$$</td>\n",
       "      <td>260.0</td>\n",
       "      <td>[['Average', 'Nice an informal'], ['01/31/2016...</td>\n",
       "      <td>/Restaurant_Review-g187849-d1109020-Reviews-Ta...</td>\n",
       "      <td>d1109020</td>\n",
       "      <td>1</td>\n",
       "      <td>3.0</td>\n",
       "    </tr>\n",
       "  </tbody>\n",
       "</table>\n",
       "<p>50000 rows × 11 columns</p>\n",
       "</div>"
      ],
      "text/plain": [
       "      Restaurant_id        City  \\\n",
       "0              id_0       Paris   \n",
       "1              id_1    Helsinki   \n",
       "2              id_2   Edinburgh   \n",
       "3              id_3      London   \n",
       "4              id_4  Bratislava   \n",
       "...             ...         ...   \n",
       "49995        id_499       Milan   \n",
       "49996       id_6340       Paris   \n",
       "49997       id_1649   Stockholm   \n",
       "49998        id_640      Warsaw   \n",
       "49999       id_4824       Milan   \n",
       "\n",
       "                                           Cuisine Style  Ranking Price Range  \\\n",
       "0                                         ['Bar', 'Pub']  12963.0    $$ - $$$   \n",
       "1      ['European', 'Scandinavian', 'Gluten Free Opti...    106.0    $$ - $$$   \n",
       "2                                ['Vegetarian Friendly']    810.0    $$ - $$$   \n",
       "3      ['Italian', 'Mediterranean', 'European', 'Vege...   1669.0        $$$$   \n",
       "4      ['Italian', 'Mediterranean', 'European', 'Seaf...     37.0        $$$$   \n",
       "...                                                  ...      ...         ...   \n",
       "49995  ['Italian', 'Vegetarian Friendly', 'Vegan Opti...    500.0    $$ - $$$   \n",
       "49996  ['French', 'American', 'Bar', 'European', 'Veg...   6341.0    $$ - $$$   \n",
       "49997                              ['Japanese', 'Sushi']   1652.0         NaN   \n",
       "49998  ['Polish', 'European', 'Eastern European', 'Ce...    641.0    $$ - $$$   \n",
       "49999                                        ['Spanish']   4827.0    $$ - $$$   \n",
       "\n",
       "       Number of Reviews                                            Reviews  \\\n",
       "0                    4.0                                           [[], []]   \n",
       "1                   97.0  [['Very good reviews!', 'Fine dining in Hakani...   \n",
       "2                   28.0  [['Better than the Links', 'Ivy Black'], ['12/...   \n",
       "3                  202.0  [['Most exquisite', 'Delicious and authentic']...   \n",
       "4                  162.0  [['Always the best in bratislava', 'Very good ...   \n",
       "...                  ...                                                ...   \n",
       "49995               79.0  [['The real Italian experience!', 'Wonderful f...   \n",
       "49996              542.0  [['Parisian atmosphere', 'Bit pricey but inter...   \n",
       "49997                4.0  [['Good by swedish standards', 'A hidden jewel...   \n",
       "49998               70.0  [['Underground restaurant', 'Oldest Restaurant...   \n",
       "49999              260.0  [['Average', 'Nice an informal'], ['01/31/2016...   \n",
       "\n",
       "                                                  URL_TA      ID_TA  sample  \\\n",
       "0      /Restaurant_Review-g187147-d10746918-Reviews-L...  d10746918       0   \n",
       "1      /Restaurant_Review-g189934-d6674944-Reviews-Ra...   d6674944       0   \n",
       "2      /Restaurant_Review-g186525-d13129638-Reviews-B...  d13129638       0   \n",
       "3      /Restaurant_Review-g186338-d680417-Reviews-Qui...    d680417       0   \n",
       "4      /Restaurant_Review-g274924-d1112354-Reviews-Ma...   d1112354       0   \n",
       "...                                                  ...        ...     ...   \n",
       "49995  /Restaurant_Review-g187849-d2104414-Reviews-Ro...   d2104414       1   \n",
       "49996  /Restaurant_Review-g187147-d1800036-Reviews-La...   d1800036       1   \n",
       "49997  /Restaurant_Review-g189852-d947615-Reviews-Sus...    d947615       1   \n",
       "49998  /Restaurant_Review-g274856-d1100838-Reviews-Ho...   d1100838       1   \n",
       "49999  /Restaurant_Review-g187849-d1109020-Reviews-Ta...   d1109020       1   \n",
       "\n",
       "       Rating  \n",
       "0         0.0  \n",
       "1         0.0  \n",
       "2         0.0  \n",
       "3         0.0  \n",
       "4         0.0  \n",
       "...       ...  \n",
       "49995     4.5  \n",
       "49996     3.5  \n",
       "49997     4.5  \n",
       "49998     4.0  \n",
       "49999     3.0  \n",
       "\n",
       "[50000 rows x 11 columns]"
      ]
     },
     "execution_count": 7,
     "metadata": {},
     "output_type": "execute_result"
    }
   ],
   "source": [
    "df"
   ]
  },
  {
   "cell_type": "markdown",
   "metadata": {},
   "source": [
    "Переименуем часть столбцов для удобства использования."
   ]
  },
  {
   "cell_type": "code",
   "execution_count": 8,
   "metadata": {},
   "outputs": [],
   "source": [
    "df.rename(columns={\"Restaurant_id\": \"restaurant_id\",\n",
    "                   \"City\": \"city\",\n",
    "                   \"Cuisine Style\": \"cuisine_style\",\n",
    "                   \"Ranking\": \"ranking\",\n",
    "                   \"Rating\": \"rating\",\n",
    "                   \"Price Range\": \"price_range\",\n",
    "                   \"Number of Reviews\": \"number_reviews\",\n",
    "                   \"Reviews\": \"reviews\",\n",
    "                   \"URL_TA\": \"url_ta\",\n",
    "                   \"ID_TA\": \"id_ta\",\n",
    "                   },\n",
    "          inplace=True)"
   ]
  },
  {
   "cell_type": "markdown",
   "metadata": {},
   "source": [
    "restaurant_id - не несет никакой практической информации."
   ]
  },
  {
   "cell_type": "code",
   "execution_count": 9,
   "metadata": {},
   "outputs": [],
   "source": [
    "df.drop([\"restaurant_id\"], axis=1, inplace=True)"
   ]
  },
  {
   "cell_type": "code",
   "execution_count": 10,
   "metadata": {},
   "outputs": [
    {
     "data": {
      "image/png": "[encoded data removed]",
      "text/plain": [
       "<Figure size 432x288 with 1 Axes>"
      ]
     },
     "metadata": {
      "needs_background": "light"
     },
     "output_type": "display_data"
    }
   ],
   "source": [
    "sns_heatmap = sns.heatmap(df.isnull(), cbar=False)"
   ]
  },
  {
   "cell_type": "markdown",
   "metadata": {},
   "source": [
    "Cоздадим столбцы с информацией о том, где были пропуски."
   ]
  },
  {
   "cell_type": "code",
   "execution_count": 11,
   "metadata": {},
   "outputs": [],
   "source": [
    "df[\"nan_cuisine_style\"] = pd.isna(df.cuisine_style).astype(int)\n",
    "df[\"nan_price_range\"] = pd.isna(df.price_range).astype(int)\n",
    "df[\"nan_number_reviews\"] = pd.isna(df.number_reviews).astype(int)"
   ]
  },
  {
   "cell_type": "markdown",
   "metadata": {},
   "source": [
    "number_reviews - количество отзывов, заполним пропуски нулями."
   ]
  },
  {
   "cell_type": "code",
   "execution_count": 12,
   "metadata": {},
   "outputs": [],
   "source": [
    "df.number_reviews.fillna(0, inplace=True)"
   ]
  },
  {
   "cell_type": "markdown",
   "metadata": {},
   "source": [
    "Заполняем пропуски в cuisine_style строкой с пустым списком и преобразуем cuisine_style из текста в список."
   ]
  },
  {
   "cell_type": "code",
   "execution_count": 13,
   "metadata": {},
   "outputs": [],
   "source": [
    "df.cuisine_style.fillna('[]', inplace=True)\n",
    "df.cuisine_style = df.cuisine_style.apply(lambda x: ast.literal_eval(x))"
   ]
  },
  {
   "cell_type": "markdown",
   "metadata": {},
   "source": [
    "Создаем признак с количеством кухонь в ресторане. Если список пустой, то ставим 1, ибо с 0 результат хуже."
   ]
  },
  {
   "cell_type": "code",
   "execution_count": 14,
   "metadata": {},
   "outputs": [],
   "source": [
    "df[\"сuisine_counts\"] = df.cuisine_style.apply(\n",
    "    lambda x: 1 if len(x) == 0 else len(x))"
   ]
  },
  {
   "cell_type": "markdown",
   "metadata": {},
   "source": [
    "Заполним пропуски в price_range самым популярным значением и преобразуем в числовой формат."
   ]
  },
  {
   "cell_type": "code",
   "execution_count": 15,
   "metadata": {},
   "outputs": [
    {
     "data": {
      "text/plain": [
       "$$ - $$$    23041\n",
       "$            7816\n",
       "$$$$         1782\n",
       "Name: price_range, dtype: int64"
      ]
     },
     "execution_count": 15,
     "metadata": {},
     "output_type": "execute_result"
    }
   ],
   "source": [
    "df.price_range.value_counts()"
   ]
  },
  {
   "cell_type": "code",
   "execution_count": 16,
   "metadata": {},
   "outputs": [],
   "source": [
    "df.price_range = df.price_range.apply(\n",
    "    lambda x: '$$ - $$$' if pd.isnull(x) else x)"
   ]
  },
  {
   "cell_type": "raw",
   "metadata": {},
   "source": [
    "Преобразуем диапазон цен в числовой формат (1 - $, 2 - $$ - $$$, 3 - $$$$)"
   ]
  },
  {
   "cell_type": "code",
   "execution_count": 17,
   "metadata": {},
   "outputs": [],
   "source": [
    "# Преобразуем диапазон цен в числовой формат (1 - $, 2 - $$-$$$, 3 - $$$$)\n",
    "df.price_range = df.price_range.apply(\n",
    "    lambda x: 1 if x == '$' else 2 if x == '$$ - $$$' else 3)"
   ]
  },
  {
   "cell_type": "markdown",
   "metadata": {},
   "source": [
    "Заполним пропуски в Reviews пустым значением"
   ]
  },
  {
   "cell_type": "code",
   "execution_count": 18,
   "metadata": {},
   "outputs": [],
   "source": [
    "df.reviews = df.reviews.apply(\n",
    "    lambda x: '[[], []]' if pd.isnull(x) else x)"
   ]
  },
  {
   "cell_type": "code",
   "execution_count": 19,
   "metadata": {},
   "outputs": [
    {
     "name": "stdout",
     "output_type": "stream",
     "text": [
      "<class 'pandas.core.frame.DataFrame'>\n",
      "RangeIndex: 50000 entries, 0 to 49999\n",
      "Data columns (total 14 columns):\n",
      " #   Column              Non-Null Count  Dtype  \n",
      "---  ------              --------------  -----  \n",
      " 0   city                50000 non-null  object \n",
      " 1   cuisine_style       50000 non-null  object \n",
      " 2   ranking             50000 non-null  float64\n",
      " 3   price_range         50000 non-null  int64  \n",
      " 4   number_reviews      50000 non-null  float64\n",
      " 5   reviews             50000 non-null  object \n",
      " 6   url_ta              50000 non-null  object \n",
      " 7   id_ta               50000 non-null  object \n",
      " 8   sample              50000 non-null  int64  \n",
      " 9   rating              50000 non-null  float64\n",
      " 10  nan_cuisine_style   50000 non-null  int64  \n",
      " 11  nan_price_range     50000 non-null  int64  \n",
      " 12  nan_number_reviews  50000 non-null  int64  \n",
      " 13  сuisine_counts      50000 non-null  int64  \n",
      "dtypes: float64(3), int64(6), object(5)\n",
      "memory usage: 5.3+ MB\n"
     ]
    }
   ],
   "source": [
    "df.info()"
   ]
  },
  {
   "cell_type": "markdown",
   "metadata": {},
   "source": [
    "Если сейчас оставить только числовые значения, обучить модель и посчитать MAE, то получится 0.41 ... Это чуть лучше, чем просто подбросить монетку. Продолжим улучшать датафрейм. Дальше по ходу дополнения датафрейма будем по такому же принципу считать MAE."
   ]
  },
  {
   "cell_type": "markdown",
   "metadata": {},
   "source": [
    "### MAE = 0.41"
   ]
  },
  {
   "cell_type": "markdown",
   "metadata": {},
   "source": [
    "### Мы заполнили все пропуски и теперь сосредоточимся на редактировании и добавлении параметров"
   ]
  },
  {
   "cell_type": "markdown",
   "metadata": {},
   "source": [
    "### Города"
   ]
  },
  {
   "cell_type": "code",
   "execution_count": 20,
   "metadata": {},
   "outputs": [
    {
     "name": "stdout",
     "output_type": "stream",
     "text": [
      "Количество ресторанов в городе:\n",
      "London        7193\n",
      "Paris         6108\n",
      "Madrid        3813\n",
      "Barcelona     3395\n",
      "Berlin        2705\n",
      "Milan         2694\n",
      "Rome          2589\n",
      "Prague        1816\n",
      "Lisbon        1647\n",
      "Vienna        1443\n",
      "Amsterdam     1372\n",
      "Brussels      1314\n",
      "Hamburg       1186\n",
      "Munich        1145\n",
      "Lyon          1126\n",
      "Stockholm     1033\n",
      "Budapest      1021\n",
      "Warsaw         925\n",
      "Dublin         836\n",
      "Copenhagen     819\n",
      "Athens         776\n",
      "Edinburgh      745\n",
      "Zurich         685\n",
      "Oporto         642\n",
      "Geneva         590\n",
      "Krakow         554\n",
      "Oslo           488\n",
      "Helsinki       475\n",
      "Bratislava     380\n",
      "Luxembourg     263\n",
      "Ljubljana      222\n",
      "Name: city, dtype: int64\n"
     ]
    }
   ],
   "source": [
    "print('Количество ресторанов в городе:')\n",
    "restaurant_counts = df.city.value_counts()\n",
    "print(restaurant_counts)"
   ]
  },
  {
   "cell_type": "markdown",
   "metadata": {},
   "source": [
    "**Создадим признак restaurant_counts** - количество ресторанов в городе."
   ]
  },
  {
   "cell_type": "code",
   "execution_count": 21,
   "metadata": {},
   "outputs": [],
   "source": [
    "df[\"restaurant_counts\"] = df.city.apply(lambda x: restaurant_counts[x])"
   ]
  },
  {
   "cell_type": "markdown",
   "metadata": {},
   "source": [
    "Добавим в датасет популяцию городов на 2020 год city_population - внешний источник данных: Yandex."
   ]
  },
  {
   "cell_type": "code",
   "execution_count": 22,
   "metadata": {},
   "outputs": [],
   "source": [
    "city_population = {\n",
    "    'London': 7556900,\n",
    "    'Paris': 2206488,\n",
    "    'Madrid': 3155360,\n",
    "    'Barcelona': 1621537,\n",
    "    'Berlin': 3326002,\n",
    "    'Milan': 1331586,\n",
    "    'Rome': 2864466,\n",
    "    'Prague': 1294513,\n",
    "    'Lisbon': 547733,\n",
    "    'Vienna': 1765649,\n",
    "    'Amsterdam': 869709,\n",
    "    'Brussels': 176545,\n",
    "    'Hamburg': 1739117,\n",
    "    'Munich': 1456039,\n",
    "    'Lyon': 496343,\n",
    "    'Stockholm': 1253309,\n",
    "    'Budapest': 1741041,\n",
    "    'Warsaw': 1720398,\n",
    "    'Dublin': 506211,\n",
    "    'Copenhagen': 1153615,\n",
    "    'Athens': 664046,\n",
    "    'Edinburgh': 482005,\n",
    "    'Zurich': 402275,\n",
    "    'Oporto': 221800,\n",
    "    'Geneva': 196150,\n",
    "    'Krakow': 762776,\n",
    "    'Oslo': 673469,\n",
    "    'Helsinki': 574579,\n",
    "    'Bratislava': 419700,\n",
    "    'Luxembourg': 576249,\n",
    "    'Ljubljana': 277554\n",
    "}\n",
    "df[\"city_population\"] = df.city.apply(lambda x: city_population[x])"
   ]
  },
  {
   "cell_type": "markdown",
   "metadata": {},
   "source": [
    "**Добавим столбец restaurant_density** - плотность ресторанов на одного человека"
   ]
  },
  {
   "cell_type": "code",
   "execution_count": 23,
   "metadata": {},
   "outputs": [],
   "source": [
    "df[\"rest_density\"] = df.restaurant_counts / df.city_population"
   ]
  },
  {
   "cell_type": "markdown",
   "metadata": {},
   "source": [
    "**Добавим столбец capital** - является ли город столицей. Внешний источник данных: Yandex."
   ]
  },
  {
   "cell_type": "code",
   "execution_count": 24,
   "metadata": {},
   "outputs": [],
   "source": [
    "capital = {\n",
    "    'London': 1,\n",
    "    'Paris': 1,\n",
    "    'Madrid': 1,\n",
    "    'Barcelona': 0,\n",
    "    'Berlin': 1,\n",
    "    'Milan': 0,\n",
    "    'Rome': 1,\n",
    "    'Prague': 1,\n",
    "    'Lisbon': 1,\n",
    "    'Vienna': 1,\n",
    "    'Amsterdam': 1,\n",
    "    'Brussels': 1,\n",
    "    'Hamburg': 0,\n",
    "    'Munich': 0,\n",
    "    'Lyon': 0,\n",
    "    'Stockholm': 1,\n",
    "    'Budapest': 1,\n",
    "    'Warsaw': 1,\n",
    "    'Dublin': 1,\n",
    "    'Copenhagen': 1,\n",
    "    'Athens': 1,\n",
    "    'Edinburgh': 0,\n",
    "    'Zurich': 1,\n",
    "    'Oporto': 0,\n",
    "    'Geneva': 1,\n",
    "    'Krakow': 0,\n",
    "    'Oslo': 1,\n",
    "    'Helsinki': 1,\n",
    "    'Bratislava': 1,\n",
    "    'Luxembourg': 1,\n",
    "    'Ljubljana': 1\n",
    "}\n",
    "\n",
    "df[\"capital\"] = df.city.apply(lambda x: capital[x])"
   ]
  },
  {
   "cell_type": "markdown",
   "metadata": {},
   "source": [
    "**Добавим столбец country** - название страны. внешний источник данных: https://en.wikipedia.org/wiki/List_of_ISO_3166_country_codes\n"
   ]
  },
  {
   "cell_type": "code",
   "execution_count": 25,
   "metadata": {},
   "outputs": [],
   "source": [
    "country = {\n",
    "    'London': 'UK',\n",
    "    'Paris': 'FR',\n",
    "    'Madrid': 'ES',\n",
    "    'Barcelona': 'ES',\n",
    "    'Berlin': 'DE',\n",
    "    'Milan': 'IT',\n",
    "    'Rome': 'IT',\n",
    "    'Prague': 'CZ',\n",
    "    'Lisbon': 'PT',\n",
    "    'Vienna': 'AT',\n",
    "    'Amsterdam': 'NL',\n",
    "    'Brussels': 'BE',\n",
    "    'Hamburg': 'DE',\n",
    "    'Munich': 'DE',\n",
    "    'Lyon': 'FR',\n",
    "    'Stockholm': 'SE',\n",
    "    'Budapest': 'HU',\n",
    "    'Warsaw': 'PL',\n",
    "    'Dublin': 'IE',\n",
    "    'Copenhagen': 'DK',\n",
    "    'Athens': 'GR',\n",
    "    'Edinburgh': 'UK',\n",
    "    'Zurich': 'CH',\n",
    "    'Oporto': 'PT',\n",
    "    'Geneva': 'CH',\n",
    "    'Krakow': 'PL',\n",
    "    'Oslo': 'NO',\n",
    "    'Helsinki': 'FI',\n",
    "    'Bratislava': 'SK',\n",
    "    'Luxembourg': 'LU',\n",
    "    'Ljubljana': 'SI'\n",
    "}\n",
    "\n",
    "df[\"country\"] = df.city.apply(lambda x: country[x])"
   ]
  },
  {
   "cell_type": "code",
   "execution_count": 26,
   "metadata": {},
   "outputs": [
    {
     "name": "stdout",
     "output_type": "stream",
     "text": [
      "Ресторанов в стране:\n",
      "UK    7938\n",
      "FR    7234\n",
      "ES    7208\n",
      "IT    5283\n",
      "DE    5036\n",
      "PT    2289\n",
      "CZ    1816\n",
      "PL    1479\n",
      "AT    1443\n",
      "NL    1372\n",
      "BE    1314\n",
      "CH    1275\n",
      "SE    1033\n",
      "HU    1021\n",
      "IE     836\n",
      "DK     819\n",
      "GR     776\n",
      "NO     488\n",
      "FI     475\n",
      "SK     380\n",
      "LU     263\n",
      "SI     222\n",
      "Name: country, dtype: int64\n"
     ]
    }
   ],
   "source": [
    "print('Ресторанов в стране:')\n",
    "restaurant_country_counts = df.country.value_counts()\n",
    "print(restaurant_country_counts)"
   ]
  },
  {
   "cell_type": "markdown",
   "metadata": {},
   "source": [
    "**Создадим признак restaurant_country_counts** - количество ресторанов в стране и **restaurant_city_concentration** - коэффициент сосредоточенности ресторанов в городах страны."
   ]
  },
  {
   "cell_type": "code",
   "execution_count": 27,
   "metadata": {},
   "outputs": [],
   "source": [
    "df[\"restaurant_country_counts\"] = df.country.apply(\n",
    "    lambda x: restaurant_country_counts[x])\n",
    "df['Rest_City_concentration'] = df.restaurant_counts / \\\n",
    "    df.restaurant_country_counts"
   ]
  },
  {
   "cell_type": "markdown",
   "metadata": {},
   "source": [
    "### MAE = 0.2103"
   ]
  },
  {
   "cell_type": "markdown",
   "metadata": {},
   "source": [
    "### Обзоры"
   ]
  },
  {
   "cell_type": "code",
   "execution_count": 28,
   "metadata": {},
   "outputs": [
    {
     "name": "stdout",
     "output_type": "stream",
     "text": [
      "Обзоров в каждой стране:\n",
      "city\n",
      "London        933770.0\n",
      "Rome          728235.0\n",
      "Paris         680827.0\n",
      "Milan         431350.0\n",
      "Barcelona     429437.0\n",
      "Madrid        357185.0\n",
      "Prague        199875.0\n",
      "Lisbon        196347.0\n",
      "Amsterdam     193814.0\n",
      "Edinburgh     172103.0\n",
      "Berlin        155923.0\n",
      "Budapest      148366.0\n",
      "Dublin        122804.0\n",
      "Brussels      113956.0\n",
      "Vienna        106709.0\n",
      "Lyon           93952.0\n",
      "Munich         82386.0\n",
      "Oporto         80355.0\n",
      "Copenhagen     73670.0\n",
      "Stockholm      71588.0\n",
      "Athens         67765.0\n",
      "Krakow         67635.0\n",
      "Warsaw         55636.0\n",
      "Hamburg        48853.0\n",
      "Zurich         46769.0\n",
      "Oslo           46602.0\n",
      "Geneva         34071.0\n",
      "Helsinki       29511.0\n",
      "Luxembourg     20817.0\n",
      "Ljubljana      18269.0\n",
      "Bratislava     16672.0\n",
      "Name: number_reviews, dtype: float64\n"
     ]
    }
   ],
   "source": [
    "print('Обзоров в каждой стране:')\n",
    "review_in_city = df.groupby([\"city\"])[\n",
    "    \"number_reviews\"].sum().sort_values(ascending=False)\n",
    "print(review_in_city)"
   ]
  },
  {
   "cell_type": "code",
   "execution_count": 29,
   "metadata": {},
   "outputs": [],
   "source": [
    "df[\"review_in_city\"] = df.city.apply(lambda x: review_in_city[x])\n",
    "df[\"relative_rank\"] = df.ranking / df[\"review_in_city\"]"
   ]
  },
  {
   "cell_type": "markdown",
   "metadata": {},
   "source": [
    "Теперь попробуем понять, что писали в самих обзорах. Ничего умнее кучи if'ов и перебора ключевых слов я не придумал. Тут явно что-то умнее нужно."
   ]
  },
  {
   "cell_type": "code",
   "execution_count": 30,
   "metadata": {},
   "outputs": [],
   "source": [
    "anchor_words = ['terrible', 'horrible', 'not good', 'disappointing',\n",
    "                'worst', 'better', 'bad', 'excellent', 'best', 'amazing', 'great']\n",
    "for word in anchor_words:\n",
    "    df[word +\n",
    "        \"_review\"] = df.reviews.apply(lambda x: 1 if word in x.lower() else 0)"
   ]
  },
  {
   "cell_type": "markdown",
   "metadata": {},
   "source": [
    "Переформатируем отзывы из строки в список"
   ]
  },
  {
   "cell_type": "code",
   "execution_count": 31,
   "metadata": {},
   "outputs": [],
   "source": [
    "df.reviews = df.reviews.apply(lambda x: transform_reviews(x))"
   ]
  },
  {
   "cell_type": "markdown",
   "metadata": {},
   "source": [
    "Создадим дополнительные параметры:\n",
    "- date_delta - время между отзывами\n",
    "- today_delta - время между последним отзывом и сегодня\n",
    "- review_year - год последнего отзыва\n",
    "- review_day - день недели последнего отзыва\n",
    "\n",
    "Для этого выделим нужные даты в отдельные признаки, посчитаем требуемые параметры и удалим все лишнее."
   ]
  },
  {
   "cell_type": "code",
   "execution_count": 32,
   "metadata": {},
   "outputs": [
    {
     "name": "stdout",
     "output_type": "stream",
     "text": [
      "True\n"
     ]
    }
   ],
   "source": [
    "df[\"first_date_review\"] = df.reviews.apply(\n",
    "    lambda x: x[1][1] if len(x[1]) == 2 else (x[1][0] if len(x[1]) == 1 else None))\n",
    "df[\"last_date_review\"] = df.reviews.apply(\n",
    "    lambda x: x[1][0] if len(x[1]) > 0 else None)\n",
    "\n",
    "# Преобразуем в формат дат\n",
    "df.first_date_review = pd.to_datetime(df.first_date_review)\n",
    "df.last_date_review = pd.to_datetime(df.last_date_review)\n",
    "\n",
    "print(df.first_date_review.min() == df.last_date_review.min())\n",
    "min_date = df.first_date_review.min()\n",
    "\n",
    "# Заполняем пропуски минимальной датой\n",
    "\n",
    "df.first_date_review = df.first_date_review.apply(\n",
    "    lambda x: min_date if pd.isnull(x) else x)\n",
    "df.last_date_review = df.last_date_review.apply(\n",
    "    lambda x: min_date if pd.isnull(x) else x)\n",
    "\n",
    "df[\"date_delta\"] = (df.last_date_review - df.first_date_review).dt.days\n",
    "df[\"today_delta\"] = (date_today - df.first_date_review).dt.days\n",
    "df[\"review_year\"] = df.last_date_review.dt.year\n",
    "df[\"review_day\"] = df.last_date_review.dt.dayofweek\n",
    "\n",
    "df.drop(['reviews', 'first_date_review',\n",
    "         'last_date_review'], axis=1, inplace=True)"
   ]
  },
  {
   "cell_type": "markdown",
   "metadata": {},
   "source": [
    "### url-ta, id-ta\n",
    "В первом значении это урл, из которого можно выдернуть идентификатор, который стоит после 'g'\n",
    "\n",
    "Во втором просто нужно откинуть первый символ, чтобы получить id "
   ]
  },
  {
   "cell_type": "code",
   "execution_count": 33,
   "metadata": {},
   "outputs": [],
   "source": [
    "df.url_ta = df.url_ta.apply(lambda x: int(\n",
    "    x.replace('/Restaurant_Review-g', '').split('-')[0]))\n",
    "df.id_ta = df.id_ta.apply(lambda x: int(x[1:]))"
   ]
  },
  {
   "cell_type": "markdown",
   "metadata": {},
   "source": [
    "## Посмотрим корреляции полученных признаков."
   ]
  },
  {
   "cell_type": "code",
   "execution_count": 34,
   "metadata": {},
   "outputs": [
    {
     "data": {
      "text/plain": [
       "<matplotlib.axes._subplots.AxesSubplot at 0x1a2d94e550>"
      ]
     },
     "execution_count": 34,
     "metadata": {},
     "output_type": "execute_result"
    },
    {
     "data": {
      "image/png": "[encoded data removed]",
      "text/plain": [
       "<Figure size 1080x720 with 2 Axes>"
      ]
     },
     "metadata": {
      "needs_background": "light"
     },
     "output_type": "display_data"
    }
   ],
   "source": [
    "plt.rcParams['figure.figsize'] = (15, 10)\n",
    "sns.heatmap(df.corr())"
   ]
  },
  {
   "cell_type": "markdown",
   "metadata": {},
   "source": [
    "У нас явно выделяется корелляция между today_delta и review_day. Но если убрать хотя бы одну из них, то MAE увеличится, так что придется оставить."
   ]
  },
  {
   "cell_type": "markdown",
   "metadata": {},
   "source": [
    "### MAE = 0.20084"
   ]
  },
  {
   "cell_type": "markdown",
   "metadata": {},
   "source": [
    "### Преобразуем текстовые и категориальные признаки в dummy-переменные"
   ]
  },
  {
   "cell_type": "code",
   "execution_count": 35,
   "metadata": {},
   "outputs": [],
   "source": [
    "df = pd.get_dummies(df, columns=['city', 'country'])"
   ]
  },
  {
   "cell_type": "code",
   "execution_count": 36,
   "metadata": {},
   "outputs": [],
   "source": [
    "cuisine_set = set()\n",
    "for cuisine_list in df.cuisine_style:\n",
    "    for cuisine in cuisine_list:\n",
    "        cuisine_set.add(cuisine)\n",
    "\n",
    "for cuisine in cuisine_set:\n",
    "    df[cuisine] = 0\n",
    "    df[cuisine] = df.cuisine_style.apply(lambda x: 1 if cuisine in x else 0)\n",
    "\n",
    "df.drop(['cuisine_style'], axis=1, inplace=True)"
   ]
  },
  {
   "cell_type": "markdown",
   "metadata": {},
   "source": [
    "# Разбиваем датафрейм на части, необходимые для обучения и тестирования модели"
   ]
  },
  {
   "cell_type": "code",
   "execution_count": 37,
   "metadata": {},
   "outputs": [],
   "source": [
    "# Разделим данные\n",
    "train_data = df.query('sample == 1').drop(['sample'], axis=1)\n",
    "test_data = df.query('sample == 0').drop(['sample'], axis=1)"
   ]
  },
  {
   "cell_type": "code",
   "execution_count": 38,
   "metadata": {},
   "outputs": [],
   "source": [
    "# Х - данные с информацией о ресторанах, у - целевая переменная (рейтинги ресторанов)\n",
    "y = train_data.rating\n",
    "X = train_data.drop(['rating'], axis=1)"
   ]
  },
  {
   "cell_type": "code",
   "execution_count": 39,
   "metadata": {},
   "outputs": [],
   "source": [
    "# Загружаем специальный инструмент для разбивки:\n",
    "from sklearn.model_selection import train_test_split"
   ]
  },
  {
   "cell_type": "code",
   "execution_count": 40,
   "metadata": {},
   "outputs": [],
   "source": [
    "# Наборы данных с меткой \"train\" будут использоваться для обучения модели, \"test\" - для тестирования.\n",
    "# Для тестирования мы будем использовать 25% от исходного датасета.\n",
    "X_train, X_test, y_train, y_test = train_test_split(\n",
    "    X, y, test_size=0.25, random_state=RANDOM_SEED)"
   ]
  },
  {
   "cell_type": "markdown",
   "metadata": {},
   "source": [
    "# Создаём, обучаем и тестируем модель"
   ]
  },
  {
   "cell_type": "code",
   "execution_count": 41,
   "metadata": {},
   "outputs": [],
   "source": [
    "# Импортируем необходимые библиотеки:\n",
    "# инструмент для создания и обучения модели\n",
    "from sklearn.ensemble import RandomForestRegressor\n",
    "from sklearn import metrics  # инструменты для оценки точности модели"
   ]
  },
  {
   "cell_type": "code",
   "execution_count": 42,
   "metadata": {},
   "outputs": [],
   "source": [
    "# Создаём модель\n",
    "regr = RandomForestRegressor(n_estimators=100, random_state=RANDOM_SEED)\n",
    "\n",
    "# Обучаем модель на тестовом наборе данных\n",
    "regr.fit(X_train, y_train)\n",
    "\n",
    "# Используем обученную модель для предсказания рейтинга ресторанов в тестовой выборке.\n",
    "# Предсказанные значения записываем в переменную y_pred\n",
    "y_pred = regr.predict(X_test)"
   ]
  },
  {
   "cell_type": "code",
   "execution_count": 43,
   "metadata": {},
   "outputs": [
    {
     "name": "stdout",
     "output_type": "stream",
     "text": [
      "MAE: 0.19840549999999998\n"
     ]
    }
   ],
   "source": [
    "# Сравниваем предсказанные значения (y_pred) с реальными (y_test) и смотрим, насколько они в среднем отличаются\n",
    "# Метрика называется Mean Absolute Error (MAE) и показывает среднее отклонение предсказанных значений от фактических.\n",
    "print('MAE:', metrics.mean_absolute_error(y_test, y_pred))"
   ]
  },
  {
   "cell_type": "markdown",
   "metadata": {},
   "source": [
    "Посмотрим на самые важные признаки для модели."
   ]
  },
  {
   "cell_type": "code",
   "execution_count": 51,
   "metadata": {},
   "outputs": [
    {
     "data": {
      "text/plain": [
       "<matplotlib.axes._subplots.AxesSubplot at 0x1a2d8081d0>"
      ]
     },
     "execution_count": 51,
     "metadata": {},
     "output_type": "execute_result"
    },
    {
     "data": {
      "image/png": "[encoded data removed]",
      "text/plain": [
       "<Figure size 720x720 with 1 Axes>"
      ]
     },
     "metadata": {
      "needs_background": "light"
     },
     "output_type": "display_data"
    }
   ],
   "source": [
    "plt.rcParams['figure.figsize'] = (10,10)\n",
    "feat_importances = pd.Series(regr.feature_importances_, index=X.columns)\n",
    "feat_importances.nlargest(20).plot(kind='barh')"
   ]
  },
  {
   "cell_type": "markdown",
   "metadata": {},
   "source": [
    "# Submission"
   ]
  },
  {
   "cell_type": "code",
   "execution_count": 45,
   "metadata": {},
   "outputs": [
    {
     "data": {
      "text/html": [
       "<div>\n",
       "<style scoped>\n",
       "    .dataframe tbody tr th:only-of-type {\n",
       "        vertical-align: middle;\n",
       "    }\n",
       "\n",
       "    .dataframe tbody tr th {\n",
       "        vertical-align: top;\n",
       "    }\n",
       "\n",
       "    .dataframe thead th {\n",
       "        text-align: right;\n",
       "    }\n",
       "</style>\n",
       "<table border=\"1\" class=\"dataframe\">\n",
       "  <thead>\n",
       "    <tr style=\"text-align: right;\">\n",
       "      <th></th>\n",
       "      <th>ranking</th>\n",
       "      <th>price_range</th>\n",
       "      <th>number_reviews</th>\n",
       "      <th>url_ta</th>\n",
       "      <th>id_ta</th>\n",
       "      <th>rating</th>\n",
       "      <th>nan_cuisine_style</th>\n",
       "      <th>nan_price_range</th>\n",
       "      <th>nan_number_reviews</th>\n",
       "      <th>сuisine_counts</th>\n",
       "      <th>...</th>\n",
       "      <th>Delicatessen</th>\n",
       "      <th>Latvian</th>\n",
       "      <th>Ecuadorean</th>\n",
       "      <th>German</th>\n",
       "      <th>Vegetarian Friendly</th>\n",
       "      <th>Slovenian</th>\n",
       "      <th>Fast Food</th>\n",
       "      <th>Southwestern</th>\n",
       "      <th>Scandinavian</th>\n",
       "      <th>Cambodian</th>\n",
       "    </tr>\n",
       "  </thead>\n",
       "  <tbody>\n",
       "    <tr>\n",
       "      <th>0</th>\n",
       "      <td>12963.0</td>\n",
       "      <td>2</td>\n",
       "      <td>4.0</td>\n",
       "      <td>187147</td>\n",
       "      <td>10746918</td>\n",
       "      <td>0.0</td>\n",
       "      <td>0</td>\n",
       "      <td>0</td>\n",
       "      <td>0</td>\n",
       "      <td>2</td>\n",
       "      <td>...</td>\n",
       "      <td>0</td>\n",
       "      <td>0</td>\n",
       "      <td>0</td>\n",
       "      <td>0</td>\n",
       "      <td>0</td>\n",
       "      <td>0</td>\n",
       "      <td>0</td>\n",
       "      <td>0</td>\n",
       "      <td>0</td>\n",
       "      <td>0</td>\n",
       "    </tr>\n",
       "    <tr>\n",
       "      <th>1</th>\n",
       "      <td>106.0</td>\n",
       "      <td>2</td>\n",
       "      <td>97.0</td>\n",
       "      <td>189934</td>\n",
       "      <td>6674944</td>\n",
       "      <td>0.0</td>\n",
       "      <td>0</td>\n",
       "      <td>0</td>\n",
       "      <td>0</td>\n",
       "      <td>5</td>\n",
       "      <td>...</td>\n",
       "      <td>0</td>\n",
       "      <td>0</td>\n",
       "      <td>0</td>\n",
       "      <td>0</td>\n",
       "      <td>1</td>\n",
       "      <td>0</td>\n",
       "      <td>0</td>\n",
       "      <td>0</td>\n",
       "      <td>1</td>\n",
       "      <td>0</td>\n",
       "    </tr>\n",
       "    <tr>\n",
       "      <th>2</th>\n",
       "      <td>810.0</td>\n",
       "      <td>2</td>\n",
       "      <td>28.0</td>\n",
       "      <td>186525</td>\n",
       "      <td>13129638</td>\n",
       "      <td>0.0</td>\n",
       "      <td>0</td>\n",
       "      <td>0</td>\n",
       "      <td>0</td>\n",
       "      <td>1</td>\n",
       "      <td>...</td>\n",
       "      <td>0</td>\n",
       "      <td>0</td>\n",
       "      <td>0</td>\n",
       "      <td>0</td>\n",
       "      <td>1</td>\n",
       "      <td>0</td>\n",
       "      <td>0</td>\n",
       "      <td>0</td>\n",
       "      <td>0</td>\n",
       "      <td>0</td>\n",
       "    </tr>\n",
       "    <tr>\n",
       "      <th>3</th>\n",
       "      <td>1669.0</td>\n",
       "      <td>3</td>\n",
       "      <td>202.0</td>\n",
       "      <td>186338</td>\n",
       "      <td>680417</td>\n",
       "      <td>0.0</td>\n",
       "      <td>0</td>\n",
       "      <td>0</td>\n",
       "      <td>0</td>\n",
       "      <td>5</td>\n",
       "      <td>...</td>\n",
       "      <td>0</td>\n",
       "      <td>0</td>\n",
       "      <td>0</td>\n",
       "      <td>0</td>\n",
       "      <td>1</td>\n",
       "      <td>0</td>\n",
       "      <td>0</td>\n",
       "      <td>0</td>\n",
       "      <td>0</td>\n",
       "      <td>0</td>\n",
       "    </tr>\n",
       "    <tr>\n",
       "      <th>4</th>\n",
       "      <td>37.0</td>\n",
       "      <td>3</td>\n",
       "      <td>162.0</td>\n",
       "      <td>274924</td>\n",
       "      <td>1112354</td>\n",
       "      <td>0.0</td>\n",
       "      <td>0</td>\n",
       "      <td>0</td>\n",
       "      <td>0</td>\n",
       "      <td>6</td>\n",
       "      <td>...</td>\n",
       "      <td>0</td>\n",
       "      <td>0</td>\n",
       "      <td>0</td>\n",
       "      <td>0</td>\n",
       "      <td>1</td>\n",
       "      <td>0</td>\n",
       "      <td>0</td>\n",
       "      <td>0</td>\n",
       "      <td>0</td>\n",
       "      <td>0</td>\n",
       "    </tr>\n",
       "  </tbody>\n",
       "</table>\n",
       "<p>5 rows × 211 columns</p>\n",
       "</div>"
      ],
      "text/plain": [
       "   ranking  price_range  number_reviews  url_ta     id_ta  rating  \\\n",
       "0  12963.0            2             4.0  187147  10746918     0.0   \n",
       "1    106.0            2            97.0  189934   6674944     0.0   \n",
       "2    810.0            2            28.0  186525  13129638     0.0   \n",
       "3   1669.0            3           202.0  186338    680417     0.0   \n",
       "4     37.0            3           162.0  274924   1112354     0.0   \n",
       "\n",
       "   nan_cuisine_style  nan_price_range  nan_number_reviews  сuisine_counts  \\\n",
       "0                  0                0                   0               2   \n",
       "1                  0                0                   0               5   \n",
       "2                  0                0                   0               1   \n",
       "3                  0                0                   0               5   \n",
       "4                  0                0                   0               6   \n",
       "\n",
       "   ...  Delicatessen  Latvian  Ecuadorean  German  Vegetarian Friendly  \\\n",
       "0  ...             0        0           0       0                    0   \n",
       "1  ...             0        0           0       0                    1   \n",
       "2  ...             0        0           0       0                    1   \n",
       "3  ...             0        0           0       0                    1   \n",
       "4  ...             0        0           0       0                    1   \n",
       "\n",
       "   Slovenian  Fast Food  Southwestern  Scandinavian  Cambodian  \n",
       "0          0          0             0             0          0  \n",
       "1          0          0             0             1          0  \n",
       "2          0          0             0             0          0  \n",
       "3          0          0             0             0          0  \n",
       "4          0          0             0             0          0  \n",
       "\n",
       "[5 rows x 211 columns]"
      ]
     },
     "execution_count": 45,
     "metadata": {},
     "output_type": "execute_result"
    }
   ],
   "source": [
    "test_data.head()"
   ]
  },
  {
   "cell_type": "code",
   "execution_count": 46,
   "metadata": {},
   "outputs": [],
   "source": [
    "test_data = test_data.drop(['rating'], axis=1)"
   ]
  },
  {
   "cell_type": "code",
   "execution_count": 47,
   "metadata": {},
   "outputs": [],
   "source": [
    "predict_submission = regr.predict(test_data)"
   ]
  },
  {
   "cell_type": "code",
   "execution_count": 48,
   "metadata": {},
   "outputs": [],
   "source": [
    "predict_submission = np.round(predict_submission*2)/2"
   ]
  },
  {
   "cell_type": "code",
   "execution_count": 49,
   "metadata": {},
   "outputs": [
    {
     "data": {
      "text/plain": [
       "array([3. , 4.5, 4.5, ..., 3. , 4.5, 4.5])"
      ]
     },
     "execution_count": 49,
     "metadata": {},
     "output_type": "execute_result"
    }
   ],
   "source": [
    "predict_submission"
   ]
  },
  {
   "cell_type": "code",
   "execution_count": 50,
   "metadata": {},
   "outputs": [
    {
     "data": {
      "text/html": [
       "<div>\n",
       "<style scoped>\n",
       "    .dataframe tbody tr th:only-of-type {\n",
       "        vertical-align: middle;\n",
       "    }\n",
       "\n",
       "    .dataframe tbody tr th {\n",
       "        vertical-align: top;\n",
       "    }\n",
       "\n",
       "    .dataframe thead th {\n",
       "        text-align: right;\n",
       "    }\n",
       "</style>\n",
       "<table border=\"1\" class=\"dataframe\">\n",
       "  <thead>\n",
       "    <tr style=\"text-align: right;\">\n",
       "      <th></th>\n",
       "      <th>Restaurant_id</th>\n",
       "      <th>Rating</th>\n",
       "    </tr>\n",
       "  </thead>\n",
       "  <tbody>\n",
       "    <tr>\n",
       "      <th>0</th>\n",
       "      <td>id_0</td>\n",
       "      <td>3.0</td>\n",
       "    </tr>\n",
       "    <tr>\n",
       "      <th>1</th>\n",
       "      <td>id_1</td>\n",
       "      <td>4.5</td>\n",
       "    </tr>\n",
       "    <tr>\n",
       "      <th>2</th>\n",
       "      <td>id_2</td>\n",
       "      <td>4.5</td>\n",
       "    </tr>\n",
       "    <tr>\n",
       "      <th>3</th>\n",
       "      <td>id_3</td>\n",
       "      <td>4.5</td>\n",
       "    </tr>\n",
       "    <tr>\n",
       "      <th>4</th>\n",
       "      <td>id_4</td>\n",
       "      <td>4.5</td>\n",
       "    </tr>\n",
       "    <tr>\n",
       "      <th>5</th>\n",
       "      <td>id_5</td>\n",
       "      <td>4.5</td>\n",
       "    </tr>\n",
       "    <tr>\n",
       "      <th>6</th>\n",
       "      <td>id_6</td>\n",
       "      <td>1.5</td>\n",
       "    </tr>\n",
       "    <tr>\n",
       "      <th>7</th>\n",
       "      <td>id_7</td>\n",
       "      <td>3.0</td>\n",
       "    </tr>\n",
       "    <tr>\n",
       "      <th>8</th>\n",
       "      <td>id_8</td>\n",
       "      <td>4.0</td>\n",
       "    </tr>\n",
       "    <tr>\n",
       "      <th>9</th>\n",
       "      <td>id_9</td>\n",
       "      <td>4.5</td>\n",
       "    </tr>\n",
       "  </tbody>\n",
       "</table>\n",
       "</div>"
      ],
      "text/plain": [
       "  Restaurant_id  Rating\n",
       "0          id_0     3.0\n",
       "1          id_1     4.5\n",
       "2          id_2     4.5\n",
       "3          id_3     4.5\n",
       "4          id_4     4.5\n",
       "5          id_5     4.5\n",
       "6          id_6     1.5\n",
       "7          id_7     3.0\n",
       "8          id_8     4.0\n",
       "9          id_9     4.5"
      ]
     },
     "execution_count": 50,
     "metadata": {},
     "output_type": "execute_result"
    }
   ],
   "source": [
    "sample_submission['Rating'] = predict_submission\n",
    "sample_submission.to_csv('submission.csv', index=False)\n",
    "sample_submission.head(10)"
   ]
  },
  {
   "cell_type": "markdown",
   "metadata": {},
   "source": [
    "# Выводы:\n",
    "Очистили и обогатили данными первоначальный датасет, благодаря чему существенно возросла точность предсказания рейтинга моделью.\n",
    "\n",
    "Как еще улучшить данные, вопрос открытый. Судя по лидерборду, там есть какой-то фактор, который существенно улучшает предсказание.\n",
    "\n",
    "Выбил 0.17040 в итоговой проверке, ник War1oR. "
   ]
  },
  {
   "cell_type": "code",
   "execution_count": null,
   "metadata": {},
   "outputs": [],
   "source": []
  }
 ],
 "metadata": {
  "kernelspec": {
   "display_name": "Python 3",
   "language": "python",
   "name": "python3"
  },
  "language_info": {
   "codemirror_mode": {
    "name": "ipython",
    "version": 3
   },
   "file_extension": ".py",
   "mimetype": "text/x-python",
   "name": "python",
   "nbconvert_exporter": "python",
   "pygments_lexer": "ipython3",
   "version": "3.7.4"
  },
  "pycharm": {
   "stem_cell": {
    "cell_type": "raw",
    "metadata": {
     "collapsed": false
    },
    "source": []
   }
  }
 },
 "nbformat": 4,
 "nbformat_minor": 2
}
